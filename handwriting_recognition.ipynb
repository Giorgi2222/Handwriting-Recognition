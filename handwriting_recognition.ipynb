{
 "cells": [
  {
   "cell_type": "code",
   "execution_count": null,
   "id": "be926199",
   "metadata": {},
   "outputs": [],
   "source": [
    "import os\n",
    "import math\n",
    "import random\n",
    "import shutil\n",
    "\n",
    "import numpy as np\n",
    "import pandas as pd\n",
    "import matplotlib.pyplot as plt\n",
    "import seaborn as sn\n",
    "\n",
    "import tensorflow as tf\n",
    "from tensorflow import keras\n",
    "from tensorflow.keras import layers"
   ]
  },
  {
   "cell_type": "code",
   "execution_count": null,
   "id": "e7052905",
   "metadata": {},
   "outputs": [],
   "source": [
    "inception_v3_model = tf.keras.applications.inception_v3.InceptionV3(\n",
    "    include_top=True,\n",
    "    weights='imagenet',\n",
    "    input_tensor=None,\n",
    "    input_shape=(299, 299, 3),\n",
    "    pooling=None,\n",
    "    classes=1000,\n",
    "    classifier_activation='linear'\n",
    ")\n"
   ]
  },
  {
   "cell_type": "code",
   "execution_count": null,
   "id": "1b099015",
   "metadata": {},
   "outputs": [],
   "source": [
    "for layer in inception_v3_model.layers:\n",
    "    layer.trainable = False"
   ]
  },
  {
   "cell_type": "code",
   "execution_count": null,
   "id": "7f4a85b5",
   "metadata": {},
   "outputs": [],
   "source": [
    "x = layers.Flatten()(inception_v3_model.output)\n",
    "x = layers.Dense(1024, activation='relu')(x)\n",
    "x = layers.Dropout(0.3)(x)\n",
    "x = layers.Dense (33, activation='linear')(x)\n",
    "\n",
    "\n",
    "model = tf.keras.Model(inception_v3_model.input, x)\n",
    "\n",
    "loss = keras.losses.SparseCategoricalCrossentropy(from_logits=True)\n",
    "optim = keras.optimizers.Adam(learning_rate=0.001)\n",
    "metrics = [\"accuracy\"]\n",
    "\n",
    "model.compile(optimizer=optim, loss=loss, metrics=metrics)"
   ]
  },
  {
   "cell_type": "code",
   "execution_count": null,
   "id": "8f68aa53",
   "metadata": {},
   "outputs": [],
   "source": [
    "preprocess_input = tf.keras.applications.inception_v3.preprocess_input"
   ]
  },
  {
   "cell_type": "code",
   "execution_count": null,
   "id": "b5ead3b1",
   "metadata": {},
   "outputs": [],
   "source": [
    "train_gen = keras.preprocessing.image.ImageDataGenerator(preprocessing_function=preprocess_input)\n",
    "valid_gen = keras.preprocessing.image.ImageDataGenerator(preprocessing_function=preprocess_input)\n",
    "test_gen = keras.preprocessing.image.ImageDataGenerator(preprocessing_function=preprocess_input)"
   ]
  },
  {
   "cell_type": "code",
   "execution_count": null,
   "id": "6493aef6",
   "metadata": {},
   "outputs": [],
   "source": [
    "names = ['ა','ბ','გ','დ', 'ე','ვ', 'ზ', 'თ','ი','კ', 'ლ','მ','ნ','ო','პ','ჟ', 'რ', 'ს','ტ','უ', 'ფ','ქ', 'ღ', 'ყ','შ','ჩ', 'ც', 'ძ','წ','ჭ','ხ','ჯ','ჰ']\n",
    "\n",
    "train_batches = train_gen.flow_from_directory(\n",
    "    \"./train\",\n",
    "    target_size=(224, 224),\n",
    "    class_mode='sparse',\n",
    "    batch_size=8,\n",
    "    shuffle=True,\n",
    "    color_mode=\"rgb\",\n",
    "    classes=names   \n",
    ")\n",
    "\n",
    "val_batches = valid_gen.flow_from_directory(\n",
    "    \"./validation\",\n",
    "    target_size=(224, 224),\n",
    "    class_mode='sparse',\n",
    "    batch_size=8,\n",
    "    shuffle=True,\n",
    "    color_mode=\"rgb\",\n",
    "    classes=names\n",
    ")\n",
    "\n",
    "test_batches = test_gen.flow_from_directory(\n",
    "    \"./test\",\n",
    "    target_size=(224, 224),\n",
    "    class_mode='sparse',\n",
    "    batch_size=8,\n",
    "    shuffle=False,\n",
    "    color_mode=\"rgb\",\n",
    "    classes=names\n",
    ")"
   ]
  },
  {
   "cell_type": "code",
   "execution_count": null,
   "id": "c28c61e4",
   "metadata": {},
   "outputs": [],
   "source": [
    "epochs = 15\n",
    "\n",
    "model.fit(train_batches, validation_data=val_batches,\n",
    "          epochs=epochs, verbose=2)"
   ]
  },
  {
   "cell_type": "code",
   "execution_count": null,
   "id": "2a3a0805",
   "metadata": {},
   "outputs": [],
   "source": [
    "model.evaluate(test_batches, verbose=2)"
   ]
  },
  {
   "cell_type": "code",
   "execution_count": null,
   "id": "7053eea9",
   "metadata": {},
   "outputs": [],
   "source": [
    "\n"
   ]
  },
  {
   "cell_type": "code",
   "execution_count": null,
   "id": "7121dd62",
   "metadata": {},
   "outputs": [],
   "source": []
  },
  {
   "cell_type": "code",
   "execution_count": null,
   "id": "3c09e363",
   "metadata": {},
   "outputs": [],
   "source": []
  },
  {
   "cell_type": "code",
   "execution_count": null,
   "id": "8d681f63",
   "metadata": {},
   "outputs": [],
   "source": []
  },
  {
   "cell_type": "code",
   "execution_count": null,
   "id": "354a5d06",
   "metadata": {},
   "outputs": [],
   "source": []
  }
 ],
 "metadata": {
  "kernelspec": {
   "display_name": "Python 3 (ipykernel)",
   "language": "python",
   "name": "python3"
  },
  "language_info": {
   "codemirror_mode": {
    "name": "ipython",
    "version": 3
   },
   "file_extension": ".py",
   "mimetype": "text/x-python",
   "name": "python",
   "nbconvert_exporter": "python",
   "pygments_lexer": "ipython3",
   "version": "3.9.12"
  }
 },
 "nbformat": 4,
 "nbformat_minor": 5
}
